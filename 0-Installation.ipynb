{
 "cells": [
  {
   "cell_type": "code",
   "execution_count": 1,
   "id": "1e2ddc75",
   "metadata": {},
   "outputs": [
    {
     "name": "stdout",
     "output_type": "stream",
     "text": [
      "Name: librosa\n",
      "Version: 0.10.1\n",
      "Summary: Python module for audio and music processing\n",
      "Home-page: https://librosa.org\n",
      "Author: Brian McFee, librosa development team\n",
      "Author-email: brian.mcfee@nyu.edu\n",
      "License: ISC\n",
      "Location: /home/duttas/miniconda3/envs/audio_feature_extraction/lib/python3.11/site-packages\n",
      "Requires: audioread, decorator, joblib, lazy-loader, msgpack, numba, numpy, pooch, scikit-learn, scipy, soundfile, soxr, typing-extensions\n",
      "Required-by: \n"
     ]
    }
   ],
   "source": [
    "!pip show librosa"
   ]
  },
  {
   "cell_type": "code",
   "execution_count": 3,
   "id": "13bade4b",
   "metadata": {},
   "outputs": [
    {
     "name": "stdout",
     "output_type": "stream",
     "text": [
      "Requirement already satisfied: librosa in /Users/avkash/anaconda3/envs/python38/lib/python3.8/site-packages (0.9.1)\n",
      "Requirement already satisfied: numba>=0.45.1 in /Users/avkash/anaconda3/envs/python38/lib/python3.8/site-packages (from librosa) (0.54.1)\n",
      "Requirement already satisfied: resampy>=0.2.2 in /Users/avkash/anaconda3/envs/python38/lib/python3.8/site-packages (from librosa) (0.2.2)\n",
      "Requirement already satisfied: pooch>=1.0 in /Users/avkash/anaconda3/envs/python38/lib/python3.8/site-packages (from librosa) (1.6.0)\n",
      "Requirement already satisfied: numpy>=1.17.0 in /Users/avkash/anaconda3/envs/python38/lib/python3.8/site-packages (from librosa) (1.20.3)\n",
      "Requirement already satisfied: soundfile>=0.10.2 in /Users/avkash/anaconda3/envs/python38/lib/python3.8/site-packages (from librosa) (0.10.3.post1)\n",
      "Requirement already satisfied: packaging>=20.0 in /Users/avkash/anaconda3/envs/python38/lib/python3.8/site-packages (from librosa) (21.3)\n",
      "Requirement already satisfied: scikit-learn>=0.19.1 in /Users/avkash/anaconda3/envs/python38/lib/python3.8/site-packages (from librosa) (1.0.1)\n",
      "Requirement already satisfied: audioread>=2.1.5 in /Users/avkash/anaconda3/envs/python38/lib/python3.8/site-packages (from librosa) (2.1.9)\n",
      "Requirement already satisfied: joblib>=0.14 in /Users/avkash/anaconda3/envs/python38/lib/python3.8/site-packages (from librosa) (1.0.1)\n",
      "Requirement already satisfied: scipy>=1.2.0 in /Users/avkash/anaconda3/envs/python38/lib/python3.8/site-packages (from librosa) (1.7.1)\n",
      "Requirement already satisfied: decorator>=4.0.10 in /Users/avkash/anaconda3/envs/python38/lib/python3.8/site-packages (from librosa) (5.1.0)\n",
      "Requirement already satisfied: llvmlite<0.38,>=0.37.0rc1 in /Users/avkash/anaconda3/envs/python38/lib/python3.8/site-packages (from numba>=0.45.1->librosa) (0.37.0)\n",
      "Requirement already satisfied: setuptools in /Users/avkash/anaconda3/envs/python38/lib/python3.8/site-packages (from numba>=0.45.1->librosa) (58.0.4)\n",
      "Requirement already satisfied: pyparsing!=3.0.5,>=2.0.2 in /Users/avkash/anaconda3/envs/python38/lib/python3.8/site-packages (from packaging>=20.0->librosa) (2.4.7)\n",
      "Requirement already satisfied: requests>=2.19.0 in /Users/avkash/anaconda3/envs/python38/lib/python3.8/site-packages (from pooch>=1.0->librosa) (2.26.0)\n",
      "Requirement already satisfied: appdirs>=1.3.0 in /Users/avkash/anaconda3/envs/python38/lib/python3.8/site-packages (from pooch>=1.0->librosa) (1.4.4)\n",
      "Requirement already satisfied: six>=1.3 in /Users/avkash/anaconda3/envs/python38/lib/python3.8/site-packages (from resampy>=0.2.2->librosa) (1.16.0)\n",
      "Requirement already satisfied: threadpoolctl>=2.0.0 in /Users/avkash/anaconda3/envs/python38/lib/python3.8/site-packages (from scikit-learn>=0.19.1->librosa) (2.2.0)\n",
      "Requirement already satisfied: cffi>=1.0 in /Users/avkash/anaconda3/envs/python38/lib/python3.8/site-packages (from soundfile>=0.10.2->librosa) (1.14.6)\n",
      "Requirement already satisfied: pycparser in /Users/avkash/anaconda3/envs/python38/lib/python3.8/site-packages (from cffi>=1.0->soundfile>=0.10.2->librosa) (2.21)\n",
      "Requirement already satisfied: urllib3<1.27,>=1.21.1 in /Users/avkash/anaconda3/envs/python38/lib/python3.8/site-packages (from requests>=2.19.0->pooch>=1.0->librosa) (1.26.7)\n",
      "Requirement already satisfied: idna<4,>=2.5 in /Users/avkash/anaconda3/envs/python38/lib/python3.8/site-packages (from requests>=2.19.0->pooch>=1.0->librosa) (3.3)\n",
      "Requirement already satisfied: certifi>=2017.4.17 in /Users/avkash/anaconda3/envs/python38/lib/python3.8/site-packages (from requests>=2.19.0->pooch>=1.0->librosa) (2021.10.8)\n",
      "Requirement already satisfied: charset-normalizer~=2.0.0 in /Users/avkash/anaconda3/envs/python38/lib/python3.8/site-packages (from requests>=2.19.0->pooch>=1.0->librosa) (2.0.4)\n"
     ]
    }
   ],
   "source": [
    "!pip install librosa"
   ]
  },
  {
   "cell_type": "code",
   "execution_count": 4,
   "id": "4c3f1c35",
   "metadata": {},
   "outputs": [
    {
     "name": "stdout",
     "output_type": "stream",
     "text": [
      "Name: librosa\r\n",
      "Version: 0.9.1\r\n",
      "Summary: Python module for audio and music processing\r\n",
      "Home-page: https://librosa.org\r\n",
      "Author: Brian McFee, librosa development team\r\n",
      "Author-email: brian.mcfee@nyu.edu\r\n",
      "License: ISC\r\n",
      "Location: /Users/avkash/anaconda3/envs/python38/lib/python3.8/site-packages\r\n",
      "Requires: audioread, decorator, joblib, numba, numpy, packaging, pooch, resampy, scikit-learn, scipy, soundfile\r\n",
      "Required-by: \r\n"
     ]
    }
   ],
   "source": [
    "!pip show librosa"
   ]
  },
  {
   "cell_type": "code",
   "execution_count": null,
   "id": "fdbb015c",
   "metadata": {},
   "outputs": [],
   "source": []
  }
 ],
 "metadata": {
  "kernelspec": {
   "display_name": "Python 3 (ipykernel)",
   "language": "python",
   "name": "python3"
  },
  "language_info": {
   "codemirror_mode": {
    "name": "ipython",
    "version": 3
   },
   "file_extension": ".py",
   "mimetype": "text/x-python",
   "name": "python",
   "nbconvert_exporter": "python",
   "pygments_lexer": "ipython3",
   "version": "3.11.7"
  }
 },
 "nbformat": 4,
 "nbformat_minor": 5
}
